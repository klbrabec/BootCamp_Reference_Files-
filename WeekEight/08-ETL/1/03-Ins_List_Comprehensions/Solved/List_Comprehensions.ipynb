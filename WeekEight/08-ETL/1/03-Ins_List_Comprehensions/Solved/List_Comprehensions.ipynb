{
 "cells": [
  {
   "cell_type": "markdown",
   "metadata": {},
   "source": [
    "###  Comparing list creation methods using Python"
   ]
  },
  {
   "cell_type": "code",
   "execution_count": 1,
   "metadata": {},
   "outputs": [
    {
     "name": "stdout",
     "output_type": "stream",
     "text": [
      "[0, 1, 2, 3, 4, 5, 6, 7, 8, 9]\n",
      "[0, 1, 2, 3, 4, 5, 6, 7, 8, 9]\n"
     ]
    }
   ],
   "source": [
    "# Using a `for` loop to iterate through a list. \n",
    "digits = []\n",
    "for x in range(10):\n",
    "    digits.append(x)\n",
    "print(digits)\n",
    "\n",
    "# Iterating through a list using list comprehensions.\n",
    "digits = [x for x in range(10)]\n",
    "print(digits)"
   ]
  },
  {
   "cell_type": "markdown",
   "metadata": {},
   "source": [
    "### Using list comprehensions for mathematical calculations."
   ]
  },
  {
   "cell_type": "code",
   "execution_count": 2,
   "metadata": {},
   "outputs": [
    {
     "name": "stdout",
     "output_type": "stream",
     "text": [
      "[0, 1, 4, 9, 16, 25, 36, 49, 64, 81]\n",
      "[0, 1, 4, 9, 16, 25, 36, 49, 64, 81]\n"
     ]
    }
   ],
   "source": [
    "# Create a list using a `for` loop that has a mulitple of a number.\n",
    "squares = []\n",
    "for x in range(10):\n",
    "    # raise x to the power of 2\n",
    "    squares.append(x**2)\n",
    "print(squares)\n",
    "\n",
    "# Create a list using list comprehension that has a mulitple of a number.\n",
    "squares = [x**2 for x in range(10)]\n",
    "print(squares)"
   ]
  },
  {
   "cell_type": "code",
   "execution_count": 3,
   "metadata": {},
   "outputs": [
    {
     "name": "stdout",
     "output_type": "stream",
     "text": [
      "[0, 3, 6, 9, 12, 15, 18, 21, 24, 27]\n"
     ]
    }
   ],
   "source": [
    "# Multiply using list comprehensions\n",
    "multiples_of_three = [x*3 for x in range(10)]\n",
    "\n",
    "print(multiples_of_three)"
   ]
  },
  {
   "cell_type": "markdown",
   "metadata": {},
   "source": [
    "### Using conditional expresssion with list comprehensions"
   ]
  },
  {
   "cell_type": "code",
   "execution_count": 4,
   "metadata": {},
   "outputs": [
    {
     "name": "stdout",
     "output_type": "stream",
     "text": [
      "[0, 2, 4, 6, 8, 10, 12, 14, 16, 18, 20, 22, 24, 26, 28, 30, 32, 34, 36, 38, 40, 42, 44, 46, 48]\n"
     ]
    }
   ],
   "source": [
    "# One way to create a list of even numbers is with a conditional list comprehension\n",
    "# the expression is just 'x'\n",
    "# the element is also 'x'\n",
    "# the iterable_object will be 'range(50)'\n",
    "# the filter_expression is 'x % 2 == 0'\n",
    "\n",
    "even_numbers = [x for x in range(50) if x % 2 == 0]\n",
    "print(even_numbers)"
   ]
  },
  {
   "cell_type": "code",
   "execution_count": 5,
   "metadata": {},
   "outputs": [
    {
     "name": "stdout",
     "output_type": "stream",
     "text": [
      "['Even', 'Odd', 'Even', 'Odd', 'Even', 'Odd', 'Even', 'Odd', 'Even', 'Odd', 'Even', 'Odd', 'Even', 'Odd', 'Even', 'Odd', 'Even', 'Odd', 'Even', 'Odd']\n"
     ]
    }
   ],
   "source": [
    "# We can use a condition for our expression with an inline if statement.\n",
    "numbers = ['Even' if x %2 == 0 else 'Odd' for x in range(20)]\n",
    "print(numbers)"
   ]
  },
  {
   "cell_type": "code",
   "execution_count": 6,
   "metadata": {},
   "outputs": [],
   "source": [
    "# Given a list of dictionaries, we can filter them with a list comprehension\n",
    "candies = [{'name':'snickers','has_chocolate':True, 'has_nuts':True, 'is_fruity':False, 'rating':9.5, 'cost':1.50},\n",
    "           {'name':'skittles','has_chocolate':False, 'has_nuts':False, 'is_fruity':True, 'rating':9.2, 'cost':0.99},\n",
    "           {'name':'caramello','has_chocolate':True, 'has_nuts':False, 'is_fruity':False, 'rating':8.3, 'cost':0.99},\n",
    "           {'name':'circus peanuts','has_chocolate':False, 'has_nuts':False, 'is_fruity':False, 'rating':2.2, 'cost':0.49},\n",
    "           {'name':'whatchamacallit','has_chocolate':True, 'has_nuts':True, 'is_fruity':False, 'rating':7.8, 'cost':1.49},\n",
    "           {'name':'starburst','has_chocolate':False, 'has_nuts':False, 'is_fruity':True, 'rating':8.5, 'cost':1.00},\n",
    "           {'name':'mars bar','has_chocolate':True, 'has_nuts':False, 'is_fruity':False, 'rating':7.2, 'cost':1.30},\n",
    "          ]\n"
   ]
  },
  {
   "cell_type": "code",
   "execution_count": 7,
   "metadata": {},
   "outputs": [
    {
     "name": "stdout",
     "output_type": "stream",
     "text": [
      "[{'name': 'skittles', 'has_chocolate': False, 'has_nuts': False, 'is_fruity': True, 'rating': 9.2, 'cost': 0.99}, {'name': 'caramello', 'has_chocolate': True, 'has_nuts': False, 'is_fruity': False, 'rating': 8.3, 'cost': 0.99}, {'name': 'circus peanuts', 'has_chocolate': False, 'has_nuts': False, 'is_fruity': False, 'rating': 2.2, 'cost': 0.49}, {'name': 'starburst', 'has_chocolate': False, 'has_nuts': False, 'is_fruity': True, 'rating': 8.5, 'cost': 1.0}, {'name': 'mars bar', 'has_chocolate': True, 'has_nuts': False, 'is_fruity': False, 'rating': 7.2, 'cost': 1.3}]\n"
     ]
    }
   ],
   "source": [
    "candies_no_nuts = [candy for candy in candies if candy['has_nuts'] == False]\n",
    "print(candies_no_nuts)"
   ]
  },
  {
   "cell_type": "code",
   "execution_count": 8,
   "metadata": {},
   "outputs": [
    {
     "name": "stdout",
     "output_type": "stream",
     "text": [
      "['skittles', 'caramello', 'circus peanuts', 'starburst', 'mars bar']\n"
     ]
    }
   ],
   "source": [
    "# To make it easier to read, we can just select the name of the candies\n",
    "candies_no_nuts = [candy['name'] for candy in candies if candy['has_nuts'] == False]\n",
    "print(candies_no_nuts)"
   ]
  },
  {
   "cell_type": "markdown",
   "metadata": {},
   "source": [
    "### Performing string manipulation using list comprehensions"
   ]
  },
  {
   "cell_type": "code",
   "execution_count": 10,
   "metadata": {},
   "outputs": [
    {
     "name": "stdout",
     "output_type": "stream",
     "text": [
      "['orderId', 'productName', 'category', 'sellingPrice', 'shipping', 'totalPrice']\n"
     ]
    }
   ],
   "source": [
    "# A list that holds the column name. \n",
    "columns = ['orderId,productName,category,sellingPrice,shipping,totalPrice']\n",
    "\n",
    "# Split the column on the comma and place in a list.\n",
    "column_names = [column.split(\",\") for column in columns]\n",
    "print(column_names[0])"
   ]
  },
  {
   "cell_type": "code",
   "execution_count": 11,
   "metadata": {},
   "outputs": [
    {
     "name": "stdout",
     "output_type": "stream",
     "text": [
      "['orderid', 'productname', 'category', 'sellingprice', 'shipping', 'totalprice']\n"
     ]
    }
   ],
   "source": [
    "# Changing a letter’s case.\n",
    "new_column_names = [column_name.lower() for column_name in column_names[0]]\n",
    "print(new_column_names)"
   ]
  },
  {
   "cell_type": "code",
   "execution_count": 12,
   "metadata": {},
   "outputs": [
    {
     "name": "stdout",
     "output_type": "stream",
     "text": [
      "['9', '8', '7', '6', '5', '4', '3', '2', '1', '0']\n"
     ]
    }
   ],
   "source": [
    "# Identify numbers in a string using the isdigit() method\n",
    "#  User data entered as name and phone number\n",
    "user_data = \"Elvis Presley 987-654-3210\"\n",
    "phone_number = [ x for x in user_data if x.isdigit()]\n",
    "\n",
    "print(phone_number)"
   ]
  },
  {
   "cell_type": "code",
   "execution_count": 13,
   "metadata": {},
   "outputs": [
    {
     "name": "stdout",
     "output_type": "stream",
     "text": [
      "[94.0, 68.0, 122.95, 128.0, 96.0, 119.9, 93.9, 113.6, 89.75, 106.85]\n"
     ]
    }
   ],
   "source": [
    "# Using list comprehensions for data cleaning. \n",
    "# List of dollar amounts as string objects.\n",
    "totals = [\"$94.00\", \"$68.00\", \"$122.95\", \"$128.00\", \"$96.00\", \"$119.90\", \"$93.90\", \"$113.60\", \"$89.75\", \"$106.85\"]\n",
    "\n",
    "# Convert the dollar amounts to a float using list comprehensions\n",
    "new_totals = [(float(total.replace('$',''))) for total in totals]\n",
    "print(new_totals)"
   ]
  },
  {
   "cell_type": "code",
   "execution_count": 14,
   "metadata": {},
   "outputs": [
    {
     "name": "stdout",
     "output_type": "stream",
     "text": [
      "<class 'float'>\n",
      "<class 'float'>\n",
      "<class 'float'>\n",
      "<class 'float'>\n",
      "<class 'float'>\n",
      "<class 'float'>\n",
      "<class 'float'>\n",
      "<class 'float'>\n",
      "<class 'float'>\n",
      "<class 'float'>\n"
     ]
    },
    {
     "data": {
      "text/plain": [
       "[None, None, None, None, None, None, None, None, None, None]"
      ]
     },
     "execution_count": 14,
     "metadata": {},
     "output_type": "execute_result"
    }
   ],
   "source": [
    "[print(type(value)) for value in new_totals]"
   ]
  },
  {
   "cell_type": "code",
   "execution_count": null,
   "metadata": {},
   "outputs": [],
   "source": []
  }
 ],
 "metadata": {
  "kernelspec": {
   "display_name": "Python 3",
   "language": "python",
   "name": "python3"
  },
  "language_info": {
   "codemirror_mode": {
    "name": "ipython",
    "version": 3
   },
   "file_extension": ".py",
   "mimetype": "text/x-python",
   "name": "python",
   "nbconvert_exporter": "python",
   "pygments_lexer": "ipython3",
   "version": "3.8.3"
  }
 },
 "nbformat": 4,
 "nbformat_minor": 2
}
