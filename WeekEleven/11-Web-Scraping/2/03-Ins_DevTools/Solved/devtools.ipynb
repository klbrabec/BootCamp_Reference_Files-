{
 "cells": [
  {
   "cell_type": "code",
   "execution_count": 1,
   "metadata": {},
   "outputs": [],
   "source": [
    "from splinter import Browser\n",
    "from bs4 import BeautifulSoup\n",
    "from webdriver_manager.chrome import ChromeDriverManager"
   ]
  },
  {
   "cell_type": "code",
   "execution_count": 2,
   "metadata": {},
   "outputs": [
    {
     "name": "stderr",
     "output_type": "stream",
     "text": [
      "[WDM] - ====== WebDriver manager ======\n",
      "[WDM] - Current google-chrome version is 107.0.5304\n",
      "[WDM] - Get LATEST driver version for 107.0.5304\n"
     ]
    },
    {
     "name": "stdout",
     "output_type": "stream",
     "text": [
      "\n",
      "\n"
     ]
    },
    {
     "name": "stderr",
     "output_type": "stream",
     "text": [
      "[WDM] - There is no [win32] chromedriver for browser 107.0.5304 in cache\n",
      "[WDM] - Get LATEST driver version for 107.0.5304\n",
      "[WDM] - Trying to download new driver from https://chromedriver.storage.googleapis.com/107.0.5304.62/chromedriver_win32.zip\n",
      "[WDM] - Driver has been saved in cache [C:\\Users\\19198\\.wdm\\drivers\\chromedriver\\win32\\107.0.5304.62]\n"
     ]
    }
   ],
   "source": [
    "# Set up Splinter\n",
    "executable_path = {'executable_path': ChromeDriverManager().install()}\n",
    "browser = Browser('chrome', **executable_path, headless=False)"
   ]
  },
  {
   "cell_type": "code",
   "execution_count": 3,
   "metadata": {},
   "outputs": [],
   "source": [
    "url = \"https://stackoverflow.com/questions/tagged/python?sort=MostVotes&edited=true\""
   ]
  },
  {
   "cell_type": "code",
   "execution_count": 4,
   "metadata": {},
   "outputs": [],
   "source": [
    "browser.visit(url)"
   ]
  },
  {
   "cell_type": "code",
   "execution_count": 5,
   "metadata": {},
   "outputs": [],
   "source": [
    "html = browser.html"
   ]
  },
  {
   "cell_type": "code",
   "execution_count": 6,
   "metadata": {},
   "outputs": [],
   "source": [
    "soup = BeautifulSoup(html, 'html.parser')"
   ]
  },
  {
   "cell_type": "code",
   "execution_count": 7,
   "metadata": {},
   "outputs": [
    {
     "data": {
      "text/plain": [
       "'\\nQuestions tagged [python]        '"
      ]
     },
     "execution_count": 7,
     "metadata": {},
     "output_type": "execute_result"
    }
   ],
   "source": [
    "soup.find('h1').text"
   ]
  },
  {
   "cell_type": "code",
   "execution_count": 8,
   "metadata": {},
   "outputs": [
    {
     "data": {
      "text/plain": [
       "'Questions tagged [python]'"
      ]
     },
     "execution_count": 8,
     "metadata": {},
     "output_type": "execute_result"
    }
   ],
   "source": [
    "soup.find('h1').text.strip()"
   ]
  },
  {
   "cell_type": "code",
   "execution_count": 9,
   "metadata": {},
   "outputs": [],
   "source": [
    "questions = soup.find_all('a', class_='question-hyperlink')"
   ]
  },
  {
   "cell_type": "code",
   "execution_count": 10,
   "metadata": {},
   "outputs": [
    {
     "data": {
      "text/plain": [
       "[<a class=\"js-gps-track question-hyperlink mb0\" data-gps-track=\"site.switch({ item_type:9, target_site:579 }); posts_hot_network.click({ item_type:2, location:9 })\" href=\"https://worldbuilding.stackexchange.com/questions/237526/interstellar-warfare-magnetic-spheres\">\n",
       "                     Interstellar Warfare - Magnetic Spheres\n",
       "                 </a>,\n",
       " <a class=\"js-gps-track question-hyperlink mb0\" data-gps-track=\"site.switch({ item_type:9, target_site:617 }); posts_hot_network.click({ item_type:2, location:9 })\" href=\"https://law.stackexchange.com/questions/85888/public-domain-can-i-sell-prints-of-the-james-webb-space-telescope\">\n",
       "                     \"Public domain\": Can I sell prints of the James Webb Space Telescope?\n",
       "                 </a>,\n",
       " <a class=\"js-gps-track question-hyperlink mb0\" data-gps-track=\"site.switch({ item_type:9, target_site:65 }); posts_hot_network.click({ item_type:2, location:9 })\" href=\"https://stats.stackexchange.com/questions/594391/fligner-killeen-test-p-value-of-na-in-r\">\n",
       "                     Fligner-Killeen test: p-value of NA in R\n",
       "                 </a>,\n",
       " <a class=\"js-gps-track question-hyperlink mb0\" data-gps-track=\"site.switch({ item_type:9, target_site:273 }); posts_hot_network.click({ item_type:2, location:9 })\" href=\"https://travel.stackexchange.com/questions/177244/overstayed-schengen-visa-by-1-day-because-of-delayed-flight-consequences\">\n",
       "                     Overstayed Schengen visa by 1 day because of delayed flight, consequences?\n",
       "                 </a>,\n",
       " <a class=\"js-gps-track question-hyperlink mb0\" data-gps-track=\"site.switch({ item_type:9, target_site:135 }); posts_hot_network.click({ item_type:2, location:9 })\" href=\"https://electronics.stackexchange.com/questions/640724/how-to-identify-bits-on-an-electric-signal\">\n",
       "                     How to identify bits on an electric signal\n",
       "                 </a>,\n",
       " <a class=\"js-gps-track question-hyperlink mb0\" data-gps-track=\"site.switch({ item_type:9, target_site:559 }); posts_hot_network.click({ item_type:2, location:9 })\" href=\"https://puzzling.stackexchange.com/questions/118601/iq-test-problem-3x3-grid-with-colours\">\n",
       "                     IQ test problem - 3x3 grid with colours\n",
       "                 </a>,\n",
       " <a class=\"js-gps-track question-hyperlink mb0\" data-gps-track=\"site.switch({ item_type:9, target_site:423 }); posts_hot_network.click({ item_type:2, location:9 })\" href=\"https://workplace.stackexchange.com/questions/188336/employer-made-me-redundant-then-retracted-the-notice-after-realising-that-im-a\">\n",
       "                     Employer made me redundant, then retracted the notice after realising that I'm about to start on a new project\n",
       "                 </a>,\n",
       " <a class=\"js-gps-track question-hyperlink mb0\" data-gps-track=\"site.switch({ item_type:9, target_site:459 }); posts_hot_network.click({ item_type:2, location:9 })\" href=\"https://salesforce.stackexchange.com/questions/389015/apps-in-salesforce-api-dont-match-ui-and-both-endpoints\">\n",
       "                     Apps in Salesforce API don't match UI and both endpoints\n",
       "                 </a>,\n",
       " <a class=\"js-gps-track question-hyperlink mb0\" data-gps-track=\"site.switch({ item_type:9, target_site:41 }); posts_hot_network.click({ item_type:2, location:9 })\" href=\"https://gaming.stackexchange.com/questions/399996/how-do-i-make-kelp-elevator-without-drowning\">\n",
       "                     How do I make kelp elevator without drowning?\n",
       "                 </a>,\n",
       " <a class=\"js-gps-track question-hyperlink mb0\" data-gps-track=\"site.switch({ item_type:9, target_site:299 }); posts_hot_network.click({ item_type:2, location:9 })\" href=\"https://french.stackexchange.com/questions/51573/circumflex-in-th%c3%a9%c3%a2tre\">\n",
       "                     Circumflex in \"théâtre\"\n",
       "                 </a>,\n",
       " <a class=\"js-gps-track question-hyperlink mb0\" data-gps-track=\"site.switch({ item_type:9, target_site:151 }); posts_hot_network.click({ item_type:2, location:9 })\" href=\"https://physics.stackexchange.com/questions/734692/why-can-einstein-coefficients-be-derived-based-on-thermodynamically-equilibrium\">\n",
       "                     Why can Einstein coefficients be derived based on thermodynamically equilibrium relations when they are basically intrinsic?\n",
       "                 </a>,\n",
       " <a class=\"js-gps-track question-hyperlink mb0\" data-gps-track=\"site.switch({ item_type:9, target_site:122 }); posts_hot_network.click({ item_type:2, location:9 })\" href=\"https://rpg.stackexchange.com/questions/202487/is-there-or-has-there-been-an-official-list-of-what-aura-magic-items-give\">\n",
       "                     Is there, or has there been, an official list of what aura magic items give?\n",
       "                 </a>,\n",
       " <a class=\"js-gps-track question-hyperlink mb0\" data-gps-track=\"site.switch({ item_type:9, target_site:514 }); posts_hot_network.click({ item_type:2, location:9 })\" href=\"https://astronomy.stackexchange.com/questions/50923/what-is-the-likelyhood-that-planet-x-is-a-glass-not-a-typo-for-gas-planet-wha\">\n",
       "                     What is the likelyhood that planet X is a glass (not a typo for gas) planet? What would it mean if it were for what we know of astronomy?\n",
       "                 </a>,\n",
       " <a class=\"js-gps-track question-hyperlink mb0\" data-gps-track=\"site.switch({ item_type:9, target_site:61 }); posts_hot_network.click({ item_type:2, location:9 })\" href=\"https://photo.stackexchange.com/questions/130545/why-am-i-getting-dark-edges-on-my-pictures\">\n",
       "                     Why am I getting dark edges on my pictures?\n",
       "                 </a>,\n",
       " <a class=\"js-gps-track question-hyperlink mb0\" data-gps-track=\"site.switch({ item_type:9, target_site:435 }); posts_hot_network.click({ item_type:2, location:9 })\" href=\"https://chess.stackexchange.com/questions/40895/what-is-the-deepest-stockfish-evaluation-of-the-standard-initial-position-that-h\">\n",
       "                     What is the deepest Stockfish evaluation of the standard initial position that has ever been done?\n",
       "                 </a>,\n",
       " <a class=\"js-gps-track question-hyperlink mb0\" data-gps-track=\"site.switch({ item_type:9, target_site:617 }); posts_hot_network.click({ item_type:2, location:9 })\" href=\"https://law.stackexchange.com/questions/85870/is-it-inappropriate-to-demand-when-asking-for-remedy\">\n",
       "                     Is it inappropriate to \"demand\" when asking for remedy?\n",
       "                 </a>,\n",
       " <a class=\"js-gps-track question-hyperlink mb0\" data-gps-track=\"site.switch({ item_type:9, target_site:481 }); posts_hot_network.click({ item_type:2, location:9 })\" href=\"https://ell.stackexchange.com/questions/326462/i-prefer-women-who-cook-good-food-who-speak-three-languages-and-who-go-mountai\">\n",
       "                     I prefer women who cook good food, who speak three languages, and who go mountain hiking - what if it is a woman who only has one of the attributes?\n",
       "                 </a>,\n",
       " <a class=\"js-gps-track question-hyperlink mb0\" data-gps-track=\"site.switch({ item_type:9, target_site:648 }); posts_hot_network.click({ item_type:2, location:9 })\" href=\"https://retrocomputing.stackexchange.com/questions/25536/how-many-characters-pages-could-wordstar-hold-on-a-typical-cp-m-machine\">\n",
       "                     How many characters/pages could WordStar hold on a typical CP/M machine?\n",
       "                 </a>,\n",
       " <a class=\"js-gps-track question-hyperlink mb0\" data-gps-track=\"site.switch({ item_type:9, target_site:415 }); posts_hot_network.click({ item_type:2, location:9 })\" href=\"https://academia.stackexchange.com/questions/190184/how-do-universities-validate-race-declarations\">\n",
       "                     How do universities validate race declarations?\n",
       "                 </a>,\n",
       " <a class=\"js-gps-track question-hyperlink mb0\" data-gps-track=\"site.switch({ item_type:9, target_site:367 }); posts_hot_network.click({ item_type:2, location:9 })\" href=\"https://movies.stackexchange.com/questions/118909/irene-is-an-engineered-person-so-why-does-she-have-a-heart-problem\">\n",
       "                     Irene is an engineered-person, so why does she have a heart problem?\n",
       "                 </a>,\n",
       " <a class=\"js-gps-track question-hyperlink mb0\" data-gps-track=\"site.switch({ item_type:9, target_site:579 }); posts_hot_network.click({ item_type:2, location:9 })\" href=\"https://worldbuilding.stackexchange.com/questions/237448/if-you-had-an-infinite-amount-of-any-element-which-would-be-the-best-metal-to-m\">\n",
       "                     If you had an infinite amount of any element, which would be the best metal to make bullets?\n",
       "                 </a>,\n",
       " <a class=\"js-gps-track question-hyperlink mb0\" data-gps-track=\"site.switch({ item_type:9, target_site:514 }); posts_hot_network.click({ item_type:2, location:9 })\" href=\"https://astronomy.stackexchange.com/questions/50947/non-anthropic-universal-units-of-time-for-active-seti\">\n",
       "                     Non-anthropic, universal units of time for active SETI\n",
       "                 </a>,\n",
       " <a class=\"js-gps-track question-hyperlink mb0\" data-gps-track=\"site.switch({ item_type:9, target_site:97 }); posts_hot_network.click({ item_type:2, location:9 })\" href=\"https://english.stackexchange.com/questions/597679/how-to-distinguish-it-cleft-and-extraposition-it-was-ben-that-found-it-v-it\">\n",
       "                     How to distinguish it-cleft and extraposition? 'It was Ben that found it' v 'It was clear that Ben found it'\n",
       "                 </a>,\n",
       " <a class=\"js-gps-track question-hyperlink mb0\" data-gps-track=\"site.switch({ item_type:9, target_site:504 }); posts_hot_network.click({ item_type:2, location:9 })\" href=\"https://mathoverflow.net/questions/433700/jacobis-original-reference-in-riemanns-paper\">\n",
       "                     Jacobi's original reference in Riemann's paper\n",
       "                 </a>]"
      ]
     },
     "execution_count": 10,
     "metadata": {},
     "output_type": "execute_result"
    }
   ],
   "source": [
    "questions"
   ]
  },
  {
   "cell_type": "code",
   "execution_count": 11,
   "metadata": {},
   "outputs": [
    {
     "data": {
      "text/plain": [
       "'https://worldbuilding.stackexchange.com/questions/237526/interstellar-warfare-magnetic-spheres'"
      ]
     },
     "execution_count": 11,
     "metadata": {},
     "output_type": "execute_result"
    }
   ],
   "source": [
    "questions[0]['href']"
   ]
  },
  {
   "cell_type": "code",
   "execution_count": 13,
   "metadata": {},
   "outputs": [
    {
     "data": {
      "text/plain": [
       "'Interstellar Warfare - Magnetic Spheres'"
      ]
     },
     "execution_count": 13,
     "metadata": {},
     "output_type": "execute_result"
    }
   ],
   "source": [
    "questions[0].text.strip()"
   ]
  },
  {
   "cell_type": "code",
   "execution_count": null,
   "metadata": {},
   "outputs": [],
   "source": [
    "browser.quit()"
   ]
  }
 ],
 "metadata": {
  "kernelspec": {
   "display_name": "Python [conda env:PythonData] *",
   "language": "python",
   "name": "conda-env-PythonData-py"
  },
  "language_info": {
   "codemirror_mode": {
    "name": "ipython",
    "version": 3
   },
   "file_extension": ".py",
   "mimetype": "text/x-python",
   "name": "python",
   "nbconvert_exporter": "python",
   "pygments_lexer": "ipython3",
   "version": "3.8.3"
  }
 },
 "nbformat": 4,
 "nbformat_minor": 4
}
