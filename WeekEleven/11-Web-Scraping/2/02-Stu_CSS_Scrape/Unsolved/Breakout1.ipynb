{
 "cells": [
  {
   "cell_type": "code",
   "execution_count": 1,
   "metadata": {},
   "outputs": [],
   "source": [
    "from bs4 import BeautifulSoup"
   ]
  },
  {
   "cell_type": "code",
   "execution_count": 2,
   "metadata": {},
   "outputs": [],
   "source": [
    "html = \"\"\"\n",
    "<!DOCTYPE HTML>\n",
    "<html>\n",
    "\n",
    "<head>\n",
    "  <meta charset=\"utf-8\">\n",
    "  <title>css.html</title>\n",
    "  <meta name=\"viewport\" content=\"width=device-width, initial-scale=1.0\">\n",
    "</head>\n",
    "\n",
    "<body>\n",
    "  <style type=\"text/css\">\n",
    "    html, body, #container {\n",
    "      height: 100%;\n",
    "    }\n",
    "    body, #container {\n",
    "      overflow: hidden;\n",
    "      margin: 0;\n",
    "    }\n",
    "    #iframe {\n",
    "      width: 100%;\n",
    "      height: 100%;\n",
    "      border: none;\n",
    "    }\n",
    "  </style>\n",
    "  <div id=\"container\">\n",
    "    <iframe id=\"iframe\" sandbox=\"allow-scripts\" src=\"/files/02-Stu_CSS_Scrape/Resources/css.html\"></iframe>\n",
    "  </div>\n",
    "</body>\n",
    "\n",
    "</html>\n",
    "\"\"\""
   ]
  },
  {
   "cell_type": "code",
   "execution_count": 3,
   "metadata": {},
   "outputs": [],
   "source": [
    "soup = BeautifulSoup(html, 'html.parser')"
   ]
  },
  {
   "cell_type": "code",
   "execution_count": null,
   "metadata": {},
   "outputs": [],
   "source": []
  }
 ],
 "metadata": {
  "kernelspec": {
   "display_name": "Python [conda env:PythonData] *",
   "language": "python",
   "name": "conda-env-PythonData-py"
  },
  "language_info": {
   "codemirror_mode": {
    "name": "ipython",
    "version": 3
   },
   "file_extension": ".py",
   "mimetype": "text/x-python",
   "name": "python",
   "nbconvert_exporter": "python",
   "pygments_lexer": "ipython3",
   "version": "3.8.3"
  }
 },
 "nbformat": 4,
 "nbformat_minor": 4
}
