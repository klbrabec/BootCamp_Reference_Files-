{
 "cells": [
  {
   "cell_type": "markdown",
   "id": "69716d42",
   "metadata": {},
   "source": [
    "##### Create a new Jupyter Notebook named mars_data_challenge_part_1.ipynb (done) "
   ]
  },
  {
   "cell_type": "markdown",
   "id": "c1ca6341",
   "metadata": {},
   "source": [
    "##### Scrape the Mars NewsLinks to an external site. website by using Splinter and Beautiful Soup. Specifically, scrape the title and preview text, or summary text, of each article on the landing page. (See below) "
   ]
  },
  {
   "cell_type": "code",
   "execution_count": 10,
   "id": "9e3e667f",
   "metadata": {},
   "outputs": [],
   "source": [
    "#import dependencies\n",
    "import pandas as pd\n",
    "import os\n",
    "import json"
   ]
  },
  {
   "cell_type": "code",
   "execution_count": 11,
   "id": "1cc0df70",
   "metadata": {},
   "outputs": [],
   "source": [
    "#import Splinter and Beautiful Soup \n",
    "from splinter import Browser\n",
    "from bs4 import BeautifulSoup as soup\n",
    "from webdriver_manager.chrome import ChromeDriverManager"
   ]
  },
  {
   "cell_type": "code",
   "execution_count": 12,
   "id": "6159ac38",
   "metadata": {},
   "outputs": [
    {
     "name": "stderr",
     "output_type": "stream",
     "text": [
      "[WDM] - Downloading: 100%|████████████████████████████████████████████████████████| 6.46M/6.46M [00:01<00:00, 4.45MB/s]\n"
     ]
    }
   ],
   "source": [
    "#set the executable path\n",
    "executable_path = {'executable_path': ChromeDriverManager().install()}\n",
    "browser = Browser('chrome', **executable_path, headless=False)"
   ]
  },
  {
   "cell_type": "code",
   "execution_count": 13,
   "id": "dc25a82d",
   "metadata": {},
   "outputs": [],
   "source": [
    "# Visit the Mars NASA news site\n",
    "url = 'https://redplanetscience.com'\n",
    "browser.visit(url)\n",
    "\n",
    "#define html variable \n",
    "html = browser.html\n",
    "html_soup = soup(html, 'html.parser')\n"
   ]
  },
  {
   "cell_type": "markdown",
   "id": "2b4d9ea0",
   "metadata": {},
   "source": [
    "###### Store the scraping results in Python data structures as follows:\n",
    "\n",
    "###### Store each title-and-preview pair in a Python dictionary. And, give each dictionary two keys: title and preview. An example is the following:"
   ]
  },
  {
   "cell_type": "code",
   "execution_count": 17,
   "id": "b76a8ccd",
   "metadata": {},
   "outputs": [],
   "source": [
    "#find titles \n",
    "titles = html_soup.find_all('div', class_='content_title')"
   ]
  },
  {
   "cell_type": "code",
   "execution_count": 20,
   "id": "2da8385c",
   "metadata": {},
   "outputs": [],
   "source": [
    "#strip title and add to title dictionary\n",
    "\n",
    "#declare title list\n",
    "t_list = [] \n",
    "\n",
    "#declare dictionary \n",
    "t_dict = {}\n",
    "\n",
    "for row in titles: \n",
    "    title_text = row.text.strip()\n",
    "    t_dict['title'] = title_text\n",
    "    t_list.append(t_dict.copy())"
   ]
  },
  {
   "cell_type": "code",
   "execution_count": 21,
   "id": "83e4b4a3",
   "metadata": {},
   "outputs": [],
   "source": [
    "#find summaries\n",
    "summaries = html_soup.find_all('div', class_='article_teaser_body')"
   ]
  },
  {
   "cell_type": "code",
   "execution_count": 22,
   "id": "9f5a7e5c",
   "metadata": {},
   "outputs": [],
   "source": [
    "#strip summary and add to summary dictionary \n",
    "\n",
    "#declare summary list\n",
    "s_list = [] \n",
    "\n",
    "#declare summary dictionary \n",
    "s_dict = {}\n",
    "\n",
    "#iterate and strip text from extract\n",
    "for row in summaries: \n",
    "    s_text = row.text.strip()\n",
    "    s_dict['preview'] = s_text\n",
    "    s_list.append(s_dict.copy())\n"
   ]
  },
  {
   "cell_type": "markdown",
   "id": "a74e6cb8",
   "metadata": {},
   "source": [
    "##### Store all the dictionaries in a Python list."
   ]
  },
  {
   "cell_type": "code",
   "execution_count": 23,
   "id": "049a22cf",
   "metadata": {},
   "outputs": [],
   "source": [
    "#Merge into single dictionary and convert to list \n",
    "\n",
    "#declare final list\n",
    "mars_data = []\n",
    "\n",
    "#declare transitional dictionary\n",
    "m_dict={}\n",
    "\n",
    "#declare iterator \n",
    "x = range(15)\n",
    "\n",
    "#loop through values pair key/value from title and summary into title/preview list \n",
    "for n in x: \n",
    "    m_dict['title']=t_list[n]['title']\n",
    "    m_dict['preview']=s_list[n]['preview']\n",
    "    mars_data.append(m_dict.copy())\n"
   ]
  },
  {
   "cell_type": "markdown",
   "id": "30b1ab25",
   "metadata": {},
   "source": [
    "##### Print the list in your notebook."
   ]
  },
  {
   "cell_type": "code",
   "execution_count": 24,
   "id": "b38fee9c",
   "metadata": {},
   "outputs": [
    {
     "data": {
      "text/plain": [
       "[{'title': \"NASA's Briefcase-Size MarCO Satellite Picks Up Honors\",\n",
       "  'preview': 'The twin spacecraft, the first of their kind to fly into deep space, earn a Laureate from Aviation Week & Space Technology.'},\n",
       " {'title': 'NASA, ULA Launch Mars 2020 Perseverance Rover Mission to Red Planet',\n",
       "  'preview': \"The agency's Mars 2020 mission is on its way. It will land at Jezero Crater in about seven months, on Feb. 18, 2021.\"},\n",
       " {'title': \"NASA's Perseverance Mars Rover Gets Balanced\",\n",
       "  'preview': \"The mission team performed a crucial weight-balancing test on the rover in preparation for this summer's history-making launch to the Red Planet.\"},\n",
       " {'title': \"NASA's Ingenuity Mars Helicopter Recharges Its Batteries in Flight\",\n",
       "  'preview': 'Headed to the Red Planet with the Perseverance rover, the pioneering helicopter is powered up for the first time in interplanetary space as part of a systems check.'},\n",
       " {'title': \"NASA's Perseverance Rover Attached to Atlas V Rocket\",\n",
       "  'preview': 'Ready for its launch later in the month, the Mars-bound rover will touch terra firma no more.'},\n",
       " {'title': 'With Mars Methane Mystery Unsolved, Curiosity Serves Scientists a New One: Oxygen',\n",
       "  'preview': 'For the first time in the history of space exploration, scientists have measured the seasonal changes in the gases that fill the air directly above the surface of Gale Crater on Mars.'},\n",
       " {'title': \"NASA's Mars 2020 Comes Full Circle\",\n",
       "  'preview': \"Aiming to pinpoint the Martian vehicle's center of gravity, engineers took NASA's 2,300-pound Mars 2020 rover for a spin in the clean room at JPL.\"},\n",
       " {'title': 'Global Storms on Mars Launch Dust Towers Into the Sky',\n",
       "  'preview': 'A Mars Dust Tower Stands Out Dust storms are common on Mars. But every decade or so, something unpredictable happens: a series of runaway storms break out, covering the entire planet in a dusty haze.'},\n",
       " {'title': \"Meet the People Behind NASA's Perseverance Rover\",\n",
       "  'preview': \"These are the scientists and engineers who built NASA's next Mars rover and who will guide it to a safe landing in Jezero Crater.\"},\n",
       " {'title': \"Three New Views of Mars' Moon Phobos\",\n",
       "  'preview': \"Taken with the infrared camera aboard NASA's Odyssey orbiter, they reveal temperature variations on the small moon as it drifts into and out of Mars’ shadow.\"},\n",
       " {'title': 'NASA Moves Forward With Campaign to Return Mars Samples to Earth',\n",
       "  'preview': 'During this next phase, the program will mature critical technologies and make critical design decisions as well as assess industry partnerships.'},\n",
       " {'title': \"NASA's Mars 2020 Rover Goes Coast-to-Coast to Prep for Launch\",\n",
       "  'preview': \"The agency's first step in returning rocks from Mars just arrived at Kennedy Space Center. The Mars 2020 team now begins readying for a launch to the Red Planet this July.\"},\n",
       " {'title': \"HiRISE Views NASA's InSight and Curiosity on Mars\",\n",
       "  'preview': 'New images taken from space offer the clearest orbital glimpse yet of InSight as well as a view of Curiosity rolling along.'},\n",
       " {'title': 'My Culture, My Voice',\n",
       "  'preview': 'In honor of Hispanic Heritage Month, Christina Hernandez, an instrument engineer on the Mars 2020 mission, talks about her childhood and journey to NASA.'},\n",
       " {'title': \"NASA's Mars 2020 Will Hunt for Microscopic Fossils\",\n",
       "  'preview': \"A new paper identifies a ring of minerals at the rover's landing site that are ideal for fossilizing microbial life.\"}]"
      ]
     },
     "execution_count": 24,
     "metadata": {},
     "output_type": "execute_result"
    }
   ],
   "source": [
    "#print final list\n",
    "mars_data"
   ]
  },
  {
   "cell_type": "markdown",
   "id": "38280a60",
   "metadata": {},
   "source": [
    "##### Optionally, store the scraped data in a file or database (to ease sharing the data with others). To do so, export the scraped data to either a JSON file or a MongoDB database. \n",
    "\n",
    "(NOT DONE) "
   ]
  },
  {
   "cell_type": "markdown",
   "id": "56c79f24",
   "metadata": {},
   "source": [
    "#### Rubric Check \n",
    "##### Automated browsing (with Splinter) was used to visit the Mars news site, and the HTML code was extracted (with Beautiful Soup). (10 points) - Completed \n",
    "\n",
    "##### The titles and preview text of the news articles were scraped and extracted. (20 points) - Completed\n",
    "\n",
    "##### The scraped information was stored in the specified Python data structure—specifically, a list of dictionaries. (10 points) - Completed\n",
    "\n",
    "(Rubric reviewed as cmpleted on 11.5.22) "
   ]
  },
  {
   "cell_type": "code",
   "execution_count": null,
   "id": "14bb7ee2",
   "metadata": {},
   "outputs": [],
   "source": []
  }
 ],
 "metadata": {
  "kernelspec": {
   "display_name": "Python 3 (ipykernel)",
   "language": "python",
   "name": "python3"
  },
  "language_info": {
   "codemirror_mode": {
    "name": "ipython",
    "version": 3
   },
   "file_extension": ".py",
   "mimetype": "text/x-python",
   "name": "python",
   "nbconvert_exporter": "python",
   "pygments_lexer": "ipython3",
   "version": "3.9.12"
  }
 },
 "nbformat": 4,
 "nbformat_minor": 5
}
